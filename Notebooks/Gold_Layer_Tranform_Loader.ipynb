{
 "cells": [
  {
   "cell_type": "markdown",
   "metadata": {
    "application/vnd.databricks.v1+cell": {
     "cellMetadata": {},
     "inputWidgets": {},
     "nuid": "17626ef7-13e5-4948-9282-e4ccd826f72c",
     "showTitle": false,
     "title": ""
    }
   },
   "source": [
    "### Import required variables and paths"
   ]
  },
  {
   "cell_type": "code",
   "execution_count": 0,
   "metadata": {
    "application/vnd.databricks.v1+cell": {
     "cellMetadata": {
      "byteLimit": 2048000,
      "rowLimit": 10000
     },
     "inputWidgets": {},
     "nuid": "9bd6cd91-a4a1-4743-8325-545ed78a9c0d",
     "showTitle": false,
     "title": ""
    }
   },
   "outputs": [],
   "source": [
    "%run \"./commons\""
   ]
  },
  {
   "cell_type": "code",
   "execution_count": 0,
   "metadata": {
    "application/vnd.databricks.v1+cell": {
     "cellMetadata": {
      "byteLimit": 2048000,
      "rowLimit": 10000
     },
     "inputWidgets": {},
     "nuid": "09772bfb-4578-4546-9632-f8853e96bb5c",
     "showTitle": false,
     "title": ""
    }
   },
   "outputs": [],
   "source": [
    "dbutils.widgets.text(name=\"env\",defaultValue='',label='Enter the environment or catalog in lower case')\n",
    "env = dbutils.widgets.get(\"env\")\n",
    "print(env)"
   ]
  },
  {
   "cell_type": "markdown",
   "metadata": {
    "application/vnd.databricks.v1+cell": {
     "cellMetadata": {},
     "inputWidgets": {},
     "nuid": "1a1dd83e-73c0-4a75-a8d4-331ab4ed3b4c",
     "showTitle": false,
     "title": ""
    }
   },
   "source": [
    "### Read Silver Traffic Table"
   ]
  },
  {
   "cell_type": "code",
   "execution_count": 0,
   "metadata": {
    "application/vnd.databricks.v1+cell": {
     "cellMetadata": {
      "byteLimit": 2048000,
      "rowLimit": 10000
     },
     "inputWidgets": {},
     "nuid": "6fe89e57-d9d7-4135-b92a-4e1ae9b0159f",
     "showTitle": false,
     "title": ""
    }
   },
   "outputs": [],
   "source": [
    "def read_SilverTrafficTable(environment):\n",
    "    print('Reading the Silver Traffic Table Data : ',end='')\n",
    "    df_SilverTraffic = (spark.readStream.table(f\"`{environment}`.`silver`.traffic\"))\n",
    "    print(f'Reading {environment}_catalog.silver.silver_traffic Success!')\n",
    "    print(\"**********************************\")\n",
    "    return df_SilverTraffic"
   ]
  },
  {
   "cell_type": "markdown",
   "metadata": {
    "application/vnd.databricks.v1+cell": {
     "cellMetadata": {},
     "inputWidgets": {},
     "nuid": "c2ddbbae-7b7f-455b-a622-bb66c57462e3",
     "showTitle": false,
     "title": ""
    }
   },
   "source": [
    "### Read Silver roads table "
   ]
  },
  {
   "cell_type": "code",
   "execution_count": 0,
   "metadata": {
    "application/vnd.databricks.v1+cell": {
     "cellMetadata": {
      "byteLimit": 2048000,
      "rowLimit": 10000
     },
     "inputWidgets": {},
     "nuid": "b509e1e0-7cad-4cc6-97a5-755c6938a0fe",
     "showTitle": false,
     "title": ""
    }
   },
   "outputs": [],
   "source": [
    "\n",
    "def read_SilverRoadsTable(environment):\n",
    "    print('Reading the Silver Table Silver_roads Data : ',end='')\n",
    "    df_SilverRoads = (spark.readStream.table(f\"`{environment}`.`silver`.roads\"))\n",
    "    print(f'Reading {environment}_catalog.silver.silver_roads Success!')\n",
    "    print(\"**********************************\")\n",
    "    return df_SilverRoads"
   ]
  },
  {
   "cell_type": "markdown",
   "metadata": {
    "application/vnd.databricks.v1+cell": {
     "cellMetadata": {},
     "inputWidgets": {},
     "nuid": "5f37327a-e1b2-416a-a0f7-04155230ddde",
     "showTitle": false,
     "title": ""
    }
   },
   "source": [
    "### Creating vehicle Intensity Column"
   ]
  },
  {
   "cell_type": "code",
   "execution_count": 0,
   "metadata": {
    "application/vnd.databricks.v1+cell": {
     "cellMetadata": {
      "byteLimit": 2048000,
      "rowLimit": 10000
     },
     "inputWidgets": {},
     "nuid": "48f99a59-e355-4209-84b0-28deb50ff1e1",
     "showTitle": false,
     "title": ""
    }
   },
   "outputs": [],
   "source": [
    "def create_VehicleIntensity(df):\n",
    "    from pyspark.sql.functions import col\n",
    "    print('Creating Vehicle Intensity column : ',end='')\n",
    "    df_veh = df.withColumn('Vehicle_Intensity',col('Motor_Vehicles_Count') / col('Link_length_km'))\n",
    "    print(\"Success!!!\")\n",
    "    print('***************')\n",
    "    return df_veh"
   ]
  },
  {
   "cell_type": "markdown",
   "metadata": {
    "application/vnd.databricks.v1+cell": {
     "cellMetadata": {},
     "inputWidgets": {},
     "nuid": "4b5055e8-0e37-4bd0-b41c-ea2ad5e4bf59",
     "showTitle": false,
     "title": ""
    }
   },
   "source": [
    "### Creating LoadTime column"
   ]
  },
  {
   "cell_type": "code",
   "execution_count": 0,
   "metadata": {
    "application/vnd.databricks.v1+cell": {
     "cellMetadata": {
      "byteLimit": 2048000,
      "rowLimit": 10000
     },
     "inputWidgets": {},
     "nuid": "2b1377c8-7507-417a-a88f-bff4d36e1a49",
     "showTitle": false,
     "title": ""
    }
   },
   "outputs": [],
   "source": [
    "def create_LoadTime(df):\n",
    "    from pyspark.sql.functions import current_timestamp\n",
    "    print('Creating Load Time column : ',end='')\n",
    "    df_timestamp = df.withColumn('Load_Time',\n",
    "                      current_timestamp()\n",
    "                      )\n",
    "    print('Success!!')\n",
    "    print('**************')\n",
    "    return df_timestamp"
   ]
  },
  {
   "cell_type": "markdown",
   "metadata": {
    "application/vnd.databricks.v1+cell": {
     "cellMetadata": {},
     "inputWidgets": {},
     "nuid": "ccee449c-5cbb-46d7-8cf3-a95447097b86",
     "showTitle": false,
     "title": ""
    }
   },
   "source": [
    "### Writing Data to Gold Traffic"
   ]
  },
  {
   "cell_type": "code",
   "execution_count": 0,
   "metadata": {
    "application/vnd.databricks.v1+cell": {
     "cellMetadata": {
      "byteLimit": 2048000,
      "rowLimit": 10000
     },
     "inputWidgets": {},
     "nuid": "2099dc94-baf7-4017-8461-33181dd1572d",
     "showTitle": false,
     "title": ""
    }
   },
   "outputs": [],
   "source": [
    "def write_traffic_gold(environment,df):\n",
    "    write_gold_stream = (df.writeStream.format('delta')\n",
    "        .option('checkpointLocation',f\"{checkpoints}/GoldTrafficLoad/Checkpt/\")\n",
    "        .outputMode('append')\n",
    "        .queryName(\"GoldTrafficWriteStream\")\n",
    "        .trigger(availableNow=True)\n",
    "        .toTable(f\"`{environment}`.`gold`.`gold_traffic`\"))\n",
    "    print('Writing to Gold table : ',end='')\n",
    "    write_gold_stream.awaitTermination()\n",
    "\n",
    "    print(f'Writing `{environment}`.`gold`.`gold_traffic` Success!')"
   ]
  },
  {
   "cell_type": "markdown",
   "metadata": {
    "application/vnd.databricks.v1+cell": {
     "cellMetadata": {},
     "inputWidgets": {},
     "nuid": "a8eb6c10-2bc5-4edf-ab52-9b74b379763c",
     "showTitle": false,
     "title": ""
    }
   },
   "source": [
    "### Write Data to Gold roads"
   ]
  },
  {
   "cell_type": "code",
   "execution_count": 0,
   "metadata": {
    "application/vnd.databricks.v1+cell": {
     "cellMetadata": {
      "byteLimit": 2048000,
      "rowLimit": 10000
     },
     "inputWidgets": {},
     "nuid": "05995f97-cdad-45c2-9c0c-656797c8d005",
     "showTitle": false,
     "title": ""
    }
   },
   "outputs": [],
   "source": [
    "def write_Roads_gold(environment,df):\n",
    "    print('Writing the gold_roads Data : ',end='') \n",
    "\n",
    "    write_gold_roads = (df.writeStream\n",
    "                .format('delta')\n",
    "                .option('checkpointLocation',f\"{checkpoints}/GoldRoadsLoad/Checkpt/\")\n",
    "                .outputMode('append')\n",
    "                .queryName(\"GoldRoadsWriteStream\")\n",
    "                .trigger(availableNow=True)\n",
    "                .toTable(f\"`{environment}`.`gold`.`gold_roads`\"))\n",
    "    \n",
    "    write_gold_roads.awaitTermination()\n",
    "    print(f'Writing `{environment}`.`gold`.`gold_roads` Success!')"
   ]
  },
  {
   "cell_type": "markdown",
   "metadata": {
    "application/vnd.databricks.v1+cell": {
     "cellMetadata": {},
     "inputWidgets": {},
     "nuid": "f1bc43b9-6d77-42b4-904c-24e7e60bbed8",
     "showTitle": false,
     "title": ""
    }
   },
   "source": [
    "### Calling all functions"
   ]
  },
  {
   "cell_type": "code",
   "execution_count": 0,
   "metadata": {
    "application/vnd.databricks.v1+cell": {
     "cellMetadata": {
      "byteLimit": 2048000,
      "rowLimit": 10000
     },
     "inputWidgets": {},
     "nuid": "8b8d7f9c-a923-4541-a879-72232574d40e",
     "showTitle": false,
     "title": ""
    }
   },
   "outputs": [],
   "source": [
    "# Reading silver tables\n",
    "df_silver_traffic = read_SilverTrafficTable(environment=env)\n",
    "df_silver_road = read_SilverRoadsTable(environment=env)\n",
    "\n",
    "# Transformation\n",
    "df_vehicle = create_VehicleIntensity(df_silver_traffic)\n",
    "df_FinalTraffic = create_LoadTime(df_vehicle)\n",
    "df_FinalRoads = create_LoadTime(df_silver_road)\n",
    "\n",
    "# Write transformed data to gold tables\n",
    "write_traffic_gold(env,df_FinalTraffic)\n",
    "write_Roads_gold(env,df_FinalRoads)"
   ]
  }
 ],
 "metadata": {
  "application/vnd.databricks.v1+notebook": {
   "dashboards": [],
   "environmentMetadata": {
    "base_environment": "",
    "client": "1"
   },
   "language": "python",
   "notebookMetadata": {
    "mostRecentlyExecutedCommandWithImplicitDF": {
     "commandId": 2635124164799045,
     "dataframes": [
      "_sqldf"
     ]
    },
    "pythonIndentUnit": 4
   },
   "notebookName": "Gold_Layer_Tranform_Loader",
   "widgets": {
    "env": {
     "currentValue": "devops_databricks",
     "nuid": "a820cf3b-786e-4e06-a585-988c631b39ad",
     "typedWidgetInfo": {
      "autoCreated": false,
      "defaultValue": "",
      "label": "Enter the environment or catalog in lower case",
      "name": "env",
      "options": {
       "widgetDisplayType": "Text",
       "validationRegex": null
      },
      "parameterDataType": "String"
     },
     "widgetInfo": {
      "widgetType": "text",
      "defaultValue": "",
      "label": "Enter the environment or catalog in lower case",
      "name": "env",
      "options": {
       "widgetType": "text",
       "autoCreated": null,
       "validationRegex": null
      }
     }
    }
   }
  }
 },
 "nbformat": 4,
 "nbformat_minor": 0
}
