{
 "cells": [
  {
   "cell_type": "markdown",
   "metadata": {
    "application/vnd.databricks.v1+cell": {
     "cellMetadata": {},
     "inputWidgets": {},
     "nuid": "9dca4967-5024-4dd3-b8da-0b459a4f2091",
     "showTitle": false,
     "title": ""
    }
   },
   "source": [
    "### Config catalog widget"
   ]
  },
  {
   "cell_type": "code",
   "execution_count": 0,
   "metadata": {
    "application/vnd.databricks.v1+cell": {
     "cellMetadata": {
      "byteLimit": 2048000,
      "rowLimit": 10000
     },
     "inputWidgets": {},
     "nuid": "bddb98d0-d0fb-4b5e-992c-56548e2ac25e",
     "showTitle": false,
     "title": ""
    }
   },
   "outputs": [],
   "source": [
    "dbutils.widgets.text(name=\"env\",defaultValue='',label='Enter the environment or catalog in lower case')\n",
    "env = dbutils.widgets.get(\"env\")\n",
    "print(env)"
   ]
  },
  {
   "cell_type": "markdown",
   "metadata": {
    "application/vnd.databricks.v1+cell": {
     "cellMetadata": {},
     "inputWidgets": {},
     "nuid": "17284802-9403-4e25-a455-f9c44a556271",
     "showTitle": false,
     "title": ""
    }
   },
   "source": [
    "### Defining required Location Paths"
   ]
  },
  {
   "cell_type": "code",
   "execution_count": 0,
   "metadata": {
    "application/vnd.databricks.v1+cell": {
     "cellMetadata": {
      "byteLimit": 2048000,
      "rowLimit": 10000
     },
     "inputWidgets": {},
     "nuid": "a49265e2-ceb2-4f8d-854d-dda2d0e46ed3",
     "showTitle": false,
     "title": ""
    }
   },
   "outputs": [],
   "source": [
    "%run \"./commons\"\n"
   ]
  },
  {
   "cell_type": "markdown",
   "metadata": {
    "application/vnd.databricks.v1+cell": {
     "cellMetadata": {},
     "inputWidgets": {},
     "nuid": "22cd4d7e-0a6f-4b78-9aeb-dfb233c2c9d7",
     "showTitle": false,
     "title": ""
    }
   },
   "source": [
    "### Handling duplicates records"
   ]
  },
  {
   "cell_type": "code",
   "execution_count": 0,
   "metadata": {
    "application/vnd.databricks.v1+cell": {
     "cellMetadata": {
      "byteLimit": 2048000,
      "rowLimit": 10000
     },
     "inputWidgets": {},
     "nuid": "16ef0e3c-d3f7-406a-aa08-4cde50da0acc",
     "showTitle": false,
     "title": ""
    }
   },
   "outputs": [],
   "source": [
    "def remove_duplicates(df):\n",
    "    print(\"Removing duplicates for dataframe..\")\n",
    "    df_unique = df.drop_duplicates()\n",
    "    print(\"Sucessful !!..\")\n",
    "    return df_unique"
   ]
  },
  {
   "cell_type": "markdown",
   "metadata": {
    "application/vnd.databricks.v1+cell": {
     "cellMetadata": {},
     "inputWidgets": {},
     "nuid": "9612cf5a-a628-41dd-9e5d-4f8e98e91514",
     "showTitle": false,
     "title": ""
    }
   },
   "source": [
    "### Handling null values"
   ]
  },
  {
   "cell_type": "code",
   "execution_count": 0,
   "metadata": {
    "application/vnd.databricks.v1+cell": {
     "cellMetadata": {
      "byteLimit": 2048000,
      "rowLimit": 10000
     },
     "inputWidgets": {},
     "nuid": "23687102-855d-42bc-803a-13bb4bfd5c65",
     "showTitle": false,
     "title": ""
    }
   },
   "outputs": [],
   "source": [
    "def remove_null(df,columns):\n",
    "    print(\"Replacing null values from string columns with 'Unknown'\")\n",
    "    df_null = df.fillna(\"Unknown\",subset = columns)\n",
    "    print('Successful replaced null in string cols !!')\n",
    "\n",
    "    print(\"Replacing null values from numeric columns with 0\")\n",
    "    df_cleaned = df_null.fillna(0,subset =  columns)\n",
    "    print('Successful replaced null in numeric cols !!')\n",
    "    return df_cleaned"
   ]
  },
  {
   "cell_type": "markdown",
   "metadata": {
    "application/vnd.databricks.v1+cell": {
     "cellMetadata": {},
     "inputWidgets": {},
     "nuid": "36c3e07a-96e9-4efa-93c0-f98754b94634",
     "showTitle": false,
     "title": ""
    }
   },
   "source": [
    "### Getting count of Electric vehicles by creating a new column"
   ]
  },
  {
   "cell_type": "code",
   "execution_count": 0,
   "metadata": {
    "application/vnd.databricks.v1+cell": {
     "cellMetadata": {
      "byteLimit": 2048000,
      "rowLimit": 10000
     },
     "inputWidgets": {},
     "nuid": "15320744-3aef-4f7b-a7d0-de84dcdd3437",
     "showTitle": false,
     "title": ""
    }
   },
   "outputs": [],
   "source": [
    "def total_electric_vehicles_byHour(df):\n",
    "    df_withElectric = df.withColumn('electric_vehicles_count',df.EV_Car+df.EV_Bike)\n",
    "    print(\"Successfully generated total ev vehicle count\")\n",
    "    return df_withElectric"
   ]
  },
  {
   "cell_type": "markdown",
   "metadata": {
    "application/vnd.databricks.v1+cell": {
     "cellMetadata": {},
     "inputWidgets": {},
     "nuid": "70fef70b-2700-4863-9084-e2fa3df931de",
     "showTitle": false,
     "title": ""
    }
   },
   "source": [
    "### Getting count of Motor vehicles by creating a new column"
   ]
  },
  {
   "cell_type": "code",
   "execution_count": 0,
   "metadata": {
    "application/vnd.databricks.v1+cell": {
     "cellMetadata": {
      "byteLimit": 2048000,
      "rowLimit": 10000
     },
     "inputWidgets": {},
     "nuid": "b313af5c-b407-4493-8d14-c973c349240c",
     "showTitle": false,
     "title": ""
    }
   },
   "outputs": [],
   "source": [
    "def total_motor_vehicles_byHour(df):\n",
    "    df_withMotor = df.withColumn('motor_vehicles_count',df.Two_wheeled_motor_vehicles + df.EV_Car + df.EV_Bike + df.Cars_and_taxis + df.Buses_and_coaches + df.LGV_Type + df.HGV_Type)\n",
    "    print(\"Successfully generated total ev vehicle count\")\n",
    "    return df_withMotor"
   ]
  },
  {
   "cell_type": "markdown",
   "metadata": {
    "application/vnd.databricks.v1+cell": {
     "cellMetadata": {},
     "inputWidgets": {},
     "nuid": "40390989-e46c-4085-acb1-317318063b8f",
     "showTitle": false,
     "title": ""
    }
   },
   "source": [
    "### Create transformed timestamp"
   ]
  },
  {
   "cell_type": "code",
   "execution_count": 0,
   "metadata": {
    "application/vnd.databricks.v1+cell": {
     "cellMetadata": {
      "byteLimit": 2048000,
      "rowLimit": 10000
     },
     "inputWidgets": {},
     "nuid": "0b4dc547-37c1-4e2e-a672-6735de8529e3",
     "showTitle": false,
     "title": ""
    }
   },
   "outputs": [],
   "source": [
    "def createTransformedTime(df):\n",
    "    from pyspark.sql.functions import current_timestamp\n",
    "    df = df.withColumn('Transformed_time',current_timestamp())\n",
    "    print('Successfully added transformed timestamp !!')\n",
    "    return df"
   ]
  },
  {
   "cell_type": "markdown",
   "metadata": {
    "application/vnd.databricks.v1+cell": {
     "cellMetadata": {},
     "inputWidgets": {},
     "nuid": "612c033d-1ac2-4d05-8616-39e86fa06fe7",
     "showTitle": false,
     "title": ""
    }
   },
   "source": [
    "### Write final transformed data to silver traffic table"
   ]
  },
  {
   "cell_type": "code",
   "execution_count": 0,
   "metadata": {
    "application/vnd.databricks.v1+cell": {
     "cellMetadata": {
      "byteLimit": 2048000,
      "rowLimit": 10000
     },
     "inputWidgets": {},
     "nuid": "f5e64a44-0cbc-49e4-9627-fd3b969ae0b3",
     "showTitle": false,
     "title": ""
    }
   },
   "outputs": [],
   "source": [
    "def write_stream_Silver_traffic(catalog,df):\n",
    "    write_silver_traffic = (df.writeStream.format('delta')\n",
    "        .option('checkpointLocation',f\"{checkpoints}/SilverTrafficLoad/checkpts\")\n",
    "        .outputMode('append')\n",
    "        .queryName('SilverTrafficWriteStream')\n",
    "        .trigger(availableNow=True)\n",
    "        .toTable(f\"`{catalog}`.`silver`.`traffic`\"))\n",
    "\n",
    "    write_silver_traffic.awaitTermination()\n",
    "\n",
    "    print(\"Write successful to Silver traffic table..!!\")"
   ]
  },
  {
   "cell_type": "code",
   "execution_count": 0,
   "metadata": {
    "application/vnd.databricks.v1+cell": {
     "cellMetadata": {
      "byteLimit": 2048000,
      "rowLimit": 10000
     },
     "inputWidgets": {},
     "nuid": "1e987d99-b8b6-4ca2-b29c-1c45b1c2dfe5",
     "showTitle": false,
     "title": ""
    }
   },
   "outputs": [],
   "source": [
    "df_sample = spark.readStream.table(f\"`{env}`.`bronze`.`raw_traffic`\")\n",
    "\n",
    "df_noDups = remove_duplicates(df_sample)\n",
    "\n",
    "df_noNulls = remove_null(df_noDups,columns = df_sample.columns)\n",
    "\n",
    "df_EVCounts = total_electric_vehicles_byHour(df_noNulls)\n",
    "\n",
    "df_motorCounts = total_motor_vehicles_byHour(df_EVCounts)\n",
    "\n",
    "df_finalTransform = createTransformedTime(df_motorCounts)\n",
    "\n",
    "write_stream_Silver_traffic(env,df_finalTransform)"
   ]
  }
 ],
 "metadata": {
  "application/vnd.databricks.v1+notebook": {
   "dashboards": [],
   "environmentMetadata": {
    "base_environment": "",
    "client": "1"
   },
   "language": "python",
   "notebookMetadata": {
    "pythonIndentUnit": 4
   },
   "notebookName": "Silver_Traffic_Transform_Loader",
   "widgets": {
    "env": {
     "currentValue": "devops_databricks",
     "nuid": "befdb0e4-48e3-47ca-a2ab-d99a17655cec",
     "typedWidgetInfo": {
      "autoCreated": false,
      "defaultValue": "",
      "label": "Enter the environment or catalog in lower case",
      "name": "env",
      "options": {
       "widgetDisplayType": "Text",
       "validationRegex": null
      },
      "parameterDataType": "String"
     },
     "widgetInfo": {
      "widgetType": "text",
      "defaultValue": "",
      "label": "Enter the environment or catalog in lower case",
      "name": "env",
      "options": {
       "widgetType": "text",
       "autoCreated": null,
       "validationRegex": null
      }
     }
    }
   }
  }
 },
 "nbformat": 4,
 "nbformat_minor": 0
}
