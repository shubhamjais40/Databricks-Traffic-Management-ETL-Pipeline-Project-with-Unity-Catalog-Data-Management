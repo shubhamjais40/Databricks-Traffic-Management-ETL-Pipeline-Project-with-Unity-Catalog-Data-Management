{
 "cells": [
  {
   "cell_type": "markdown",
   "metadata": {
    "application/vnd.databricks.v1+cell": {
     "cellMetadata": {},
     "inputWidgets": {},
     "nuid": "eed1f648-3d93-4ecf-843e-e713b25fc5ba",
     "showTitle": false,
     "title": ""
    }
   },
   "source": [
    "### Import Required Locations"
   ]
  },
  {
   "cell_type": "code",
   "execution_count": 0,
   "metadata": {
    "application/vnd.databricks.v1+cell": {
     "cellMetadata": {
      "byteLimit": 2048000,
      "rowLimit": 10000
     },
     "inputWidgets": {},
     "nuid": "e9b79e83-5ca3-4a3e-b248-7f3720f13de5",
     "showTitle": false,
     "title": ""
    }
   },
   "outputs": [],
   "source": [
    "checkpoints = spark.sql(\"\"\"DESCRIBE EXTERNAL LOCATION `checkpoints`;\"\"\").select('url').collect()[0][0]\n",
    "\n",
    "silver = spark.sql(\"\"\"DESCRIBE EXTERNAL LOCATION `silver`;\"\"\").select('url').collect()[0][0]\n",
    "\n",
    "bronze = spark.sql(\"\"\"DESCRIBE EXTERNAL LOCATION `bronze`;\"\"\").select('url').collect()[0][0]\n",
    "\n",
    "gold = spark.sql(\"\"\"DESCRIBE EXTERNAL LOCATION `gold`;\"\"\").select('url').collect()[0][0]"
   ]
  },
  {
   "cell_type": "markdown",
   "metadata": {
    "application/vnd.databricks.v1+cell": {
     "cellMetadata": {},
     "inputWidgets": {},
     "nuid": "51fc8355-5832-4603-b53b-cf928ed1c21e",
     "showTitle": false,
     "title": ""
    }
   },
   "source": [
    "### Handling duplicates records"
   ]
  },
  {
   "cell_type": "code",
   "execution_count": 0,
   "metadata": {
    "application/vnd.databricks.v1+cell": {
     "cellMetadata": {
      "byteLimit": 2048000,
      "rowLimit": 10000
     },
     "inputWidgets": {},
     "nuid": "39219803-cfd1-43f0-b885-0142dc58cc2e",
     "showTitle": false,
     "title": ""
    }
   },
   "outputs": [],
   "source": [
    "def remove_duplicates(df):\n",
    "    print(\"Removing duplicates for dataframe..\")\n",
    "    df_unique = df.drop_duplicates()\n",
    "    print(\"Sucessful !!..\")\n",
    "    return df_unique"
   ]
  },
  {
   "cell_type": "markdown",
   "metadata": {
    "application/vnd.databricks.v1+cell": {
     "cellMetadata": {},
     "inputWidgets": {},
     "nuid": "6747f1ce-9d13-4172-bf41-e49d632dee10",
     "showTitle": false,
     "title": ""
    }
   },
   "source": [
    "### Handling null values"
   ]
  },
  {
   "cell_type": "code",
   "execution_count": 0,
   "metadata": {
    "application/vnd.databricks.v1+cell": {
     "cellMetadata": {
      "byteLimit": 2048000,
      "rowLimit": 10000
     },
     "inputWidgets": {},
     "nuid": "7c0bf459-0bc5-44ae-972b-17d0d5cb9ee5",
     "showTitle": false,
     "title": ""
    }
   },
   "outputs": [],
   "source": [
    "def remove_null(df,columns):\n",
    "    print(\"Replacing null values from string columns with 'Unknown'\")\n",
    "    df_null = df.fillna(\"Unknown\",subset = columns)\n",
    "    print('Successful replaced null in string cols !!')\n",
    "\n",
    "    print(\"Replacing null values from numeric columns with 0\")\n",
    "    df_cleaned = df_null.fillna(0,subset =  columns)\n",
    "    print('Successful replaced null in numeric cols !!')\n",
    "    return df_cleaned"
   ]
  }
 ],
 "metadata": {
  "application/vnd.databricks.v1+notebook": {
   "dashboards": [],
   "environmentMetadata": {
    "base_environment": "",
    "client": "1"
   },
   "language": "python",
   "notebookMetadata": {
    "mostRecentlyExecutedCommandWithImplicitDF": {
     "commandId": 2749051291457083,
     "dataframes": [
      "_sqldf"
     ]
    },
    "pythonIndentUnit": 4
   },
   "notebookName": "commons",
   "widgets": {}
  }
 },
 "nbformat": 4,
 "nbformat_minor": 0
}
